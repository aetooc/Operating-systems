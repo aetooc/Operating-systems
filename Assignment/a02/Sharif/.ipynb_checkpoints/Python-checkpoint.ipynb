{
 "cells": [
  {
   "cell_type": "code",
   "execution_count": 18,
   "id": "4b8eb874-f943-4720-93e3-b0b03f3153c4",
   "metadata": {},
   "outputs": [],
   "source": [
    "import csv\n",
    "\n",
    "# avgFile = \"Hello.txt\"\n",
    "# mainFile = \"hello.txt\"\n",
    "# fileNo = \"First\"\n",
    "\n",
    "avgFile = \"Hello2.txt\"\n",
    "mainFile = \"hello2.txt\"\n",
    "fileNo = \"Second\"\n",
    "\n",
    "def ReadData():\n",
    "    with open(avgFile, 'w') as temp:\n",
    "        with open(mainFile, 'r') as file:\n",
    "            data = file.readlines()\n",
    "            for line in data:\n",
    "                if line[0] == 'r':\n",
    "                    temp.write(line)\n",
    "                else:\n",
    "                    pass\n",
    "ReadData()"
   ]
  },
  {
   "cell_type": "code",
   "execution_count": 19,
   "id": "04519c00-d0f4-43f4-9f9a-1917d443b7c2",
   "metadata": {},
   "outputs": [
    {
     "name": "stdout",
     "output_type": "stream",
     "text": [
      "Second File Time :\n",
      "\t\t real    0.0526\n",
      "dtype: float64\n"
     ]
    }
   ],
   "source": [
    "import pandas as pd\n",
    " \n",
    "# creating a data frame\n",
    "df = pd.read_table(avgFile, delimiter =\"\\t0m0\", header=None)\n",
    "df.columns = [\"real\", \"time\"]\n",
    "dt = df[\"time\"]\n",
    "with open(\"time.csv\", 'w') as temp:\n",
    "    for i in dt:\n",
    "        temp.write(i[0:4])\n",
    "        temp.write(\"\\n\")\n",
    "\n",
    "dk = pd.read_table(\"time.csv\", header= None)\n",
    "dk.columns = [\"real\"]\n",
    "print(f\"{fileNo} File Time :\\n\\t\\t {dk.mean()}\")"
   ]
  },
  {
   "cell_type": "code",
   "execution_count": null,
   "id": "59974017-1059-4009-9732-04e0cc7112d9",
   "metadata": {},
   "outputs": [],
   "source": []
  },
  {
   "cell_type": "code",
   "execution_count": null,
   "id": "935e0417-7f10-4dc6-bd7e-5f40104e8067",
   "metadata": {},
   "outputs": [],
   "source": []
  },
  {
   "cell_type": "code",
   "execution_count": null,
   "id": "2ec62aa3-33de-450a-b543-14f9a96b52f9",
   "metadata": {},
   "outputs": [],
   "source": []
  },
  {
   "cell_type": "code",
   "execution_count": null,
   "id": "61d7e39a-ef4d-4e0b-8721-5cf508d25a5e",
   "metadata": {},
   "outputs": [],
   "source": []
  },
  {
   "cell_type": "code",
   "execution_count": null,
   "id": "a573cbfa-9f75-471f-9c75-92007d8f214b",
   "metadata": {},
   "outputs": [],
   "source": []
  },
  {
   "cell_type": "code",
   "execution_count": 20,
   "id": "14c61ac9-7d43-4332-84e5-d8a09d68ca40",
   "metadata": {},
   "outputs": [
    {
     "name": "stdout",
     "output_type": "stream",
     "text": [
      "61.300765155974105\n"
     ]
    }
   ],
   "source": [
    "I = 0.13592\n",
    "S = 0.05260\n",
    "\n",
    "print( (I-S)*100/I)"
   ]
  },
  {
   "cell_type": "code",
   "execution_count": null,
   "id": "c93de587-631e-4b3b-8763-0456020e9f2c",
   "metadata": {},
   "outputs": [],
   "source": []
  },
  {
   "cell_type": "code",
   "execution_count": null,
   "id": "5610da5b-24e4-4bf9-b6da-a1018d105bf6",
   "metadata": {},
   "outputs": [],
   "source": []
  },
  {
   "cell_type": "code",
   "execution_count": null,
   "id": "f923477a-939b-4e68-a8ad-8a7fb30d8c14",
   "metadata": {},
   "outputs": [],
   "source": []
  },
  {
   "cell_type": "code",
   "execution_count": null,
   "id": "9ecaf7e5-49ea-40fe-af1f-5c10e6977de3",
   "metadata": {},
   "outputs": [],
   "source": []
  },
  {
   "cell_type": "code",
   "execution_count": null,
   "id": "63cf2d1d-40ea-4972-a29a-2955aedb108e",
   "metadata": {},
   "outputs": [],
   "source": []
  },
  {
   "cell_type": "code",
   "execution_count": null,
   "id": "9fd0a92c-2fdb-45ed-93ee-5ba99610fc1a",
   "metadata": {},
   "outputs": [],
   "source": []
  },
  {
   "cell_type": "code",
   "execution_count": null,
   "id": "8302248a-2933-4f70-b812-756ffb3dc5ea",
   "metadata": {},
   "outputs": [],
   "source": []
  },
  {
   "cell_type": "markdown",
   "id": "1cb90a00-53fa-41ee-a92f-844f71aaefe4",
   "metadata": {
    "tags": []
   },
   "source": [
    "## Number of experiments run >>> &emsp;&emsp;&emsp;&emsp;&emsp;&emsp;&emsp;&emsp;&emsp;&emsp;&emsp;&emsp; <font color='Purple'>N = </font> <font color='red'> 50 ( 2 Experiments  </font> \n",
    "## Average ‘user time’ for hello (int-based calls) >>> &nbsp;&ensp;&emsp;&emsp;&emsp;&emsp;<font color='Purple'>I = </font><font color='red'> 0.13592 </font> \n",
    "## Average ‘user time’ for hello2 (syscall-based calls) >>> &emsp;&emsp; <font color='Purple'>S = </font><font color='red'>   0.05260 </font> <br>\n",
    "## Percentage speedup >>> &emsp;&emsp;&emsp;&emsp;&emsp;<font color='Purple'>(I-S)*100/I =   </font><font color='red'> 61.300765155974105 </font> "
   ]
  },
  {
   "cell_type": "code",
   "execution_count": null,
   "id": "8c791997-20af-40cb-a353-f5730400feaf",
   "metadata": {},
   "outputs": [],
   "source": []
  }
 ],
 "metadata": {
  "kernelspec": {
   "display_name": "Python 3 (ipykernel)",
   "language": "python",
   "name": "python3"
  },
  "language_info": {
   "codemirror_mode": {
    "name": "ipython",
    "version": 3
   },
   "file_extension": ".py",
   "mimetype": "text/x-python",
   "name": "python",
   "nbconvert_exporter": "python",
   "pygments_lexer": "ipython3",
   "version": "3.8.12"
  }
 },
 "nbformat": 4,
 "nbformat_minor": 5
}
